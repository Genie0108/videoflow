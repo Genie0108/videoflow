{
 "cells": [
  {
   "cell_type": "code",
   "execution_count": 1,
   "metadata": {},
   "outputs": [],
   "source": [
    "import numpy as np\n",
    "import videoflow\n",
    "import videoflow.core.flow as flow\n",
    "from videoflow.consumers import VideofileWriter\n",
    "from videoflow.producers import VideofileReader\n",
    "from videoflow.processors.vision import TensorflowObjectDetector, BoundingBoxAnnotator\n",
    "from videoflow.consumers import CommandlineConsumer"
   ]
  },
  {
   "cell_type": "code",
   "execution_count": 2,
   "metadata": {},
   "outputs": [],
   "source": [
    "def run_flow():\n",
    "    \n",
    "    tensorflow_model_path = \"/Users/dearj019/Downloads/faster_rcnn_resnet101_coco_2018_01_28/frozen_inference_graph.pb\"\n",
    "    tensorflow_model_classes = 90\n",
    "    output_file = \"output.avi\"\n",
    "    input_file = \"/Users/dearj019/Documents/Projects/PARKING_LOT/output.mp4\"\n",
    "    class_labels_path = \"mscoco_labels.pbtxt\"\n",
    "    \n",
    "    reader = VideofileReader(input_file, 15)\n",
    "    detector = TensorflowObjectDetector(tensorflow_model_path, tensorflow_model_classes)(reader)\n",
    "    annotator = BoundingBoxAnnotator(class_labels_path)(reader, detector)\n",
    "    writer = VideofileWriter(output_file, fps = 30)(annotator)\n",
    "    fl = flow.Flow([reader], [writer], flow_type = flow.BATCH)\n",
    "    fl.run()\n",
    "    fl.join()"
   ]
  },
  {
   "cell_type": "code",
   "execution_count": 3,
   "metadata": {},
   "outputs": [],
   "source": [
    "run_flow()"
   ]
  },
  {
   "cell_type": "code",
   "execution_count": null,
   "metadata": {},
   "outputs": [],
   "source": []
  }
 ],
 "metadata": {
  "kernelspec": {
   "display_name": "Python 3",
   "language": "python",
   "name": "python3"
  },
  "language_info": {
   "codemirror_mode": {
    "name": "ipython",
    "version": 3
   },
   "file_extension": ".py",
   "mimetype": "text/x-python",
   "name": "python",
   "nbconvert_exporter": "python",
   "pygments_lexer": "ipython3",
   "version": "3.7.2"
  }
 },
 "nbformat": 4,
 "nbformat_minor": 2
}
