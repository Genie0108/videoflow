{
 "cells": [
  {
   "cell_type": "code",
   "execution_count": 4,
   "metadata": {},
   "outputs": [],
   "source": [
    "a = {\"ABC Corporate\": 23232,\n",
    "                    \"Better Business Bureau\": 23232,\n",
    "                    \"Call Center Fulfillment\": 360096623771,\n",
    "                    \"Cast Admissions\": None,\n",
    "                    \"Casting Questions\": None,\n",
    "                    \"Community Relations\": 360096249152,\n",
    "                    \"Disney Channel\": 360096249192,\n",
    "                    \"Disney Cruise Line\": 360096623891,\n",
    "                    \"Disney Parks & Resort Digital\": 360096252332,\n",
    "                    \"Disneyland Paris Pre-Trip Disability Access Services inquiries\": 360096623951,\n",
    "                    \"Disneyland Paris Reservation\": None,\n",
    "                    \"DisneyLand Paris Guest Comm\": 360096623991,\n",
    "                    \"DisneyLand Paris Guest Comm - Escalated Writebacks\": 360096623991,\n",
    "                    \"Disneyland Resort\": 360096249432,\n",
    "                    \"Disney's Magical Express\": None,\n",
    "                    \"eCommerce\": 360096624611,\n",
    "                    \"PhotoPass/Disney Photo Imaging\": 360096249492,\n",
    "                    \"Employee Relations\": None,\n",
    "                    \"Floral & Gifting\": None,\n",
    "                    \"Groups Seeking Tickets - Disabled\": None,\n",
    "                    \"Groups Seeking Tickets\": None,\n",
    "                    \"Guest Letters/Disney Reservation Center\": 360096249592,\n",
    "                    \"Hong Kong DL Guest Comm\": 360096624791,\n",
    "                    \"Legal Subpoenas\": None,\n",
    "                    \"Media and Blogger Ticket Requests\": None,\n",
    "                    \"No Response\": 360096249712,\n",
    "                    \"Opt Out\": 360096624851,\n",
    "                    \"Retirees Writing About Benefits\": None,\n",
    "                    \"Shanghai Disney\": None,\n",
    "                    \"Shanghai Disney - Urgent\": None,\n",
    "                    \"Third Party Request\": 360096623691,\n",
    "                    \"Ticketing Guest Services\": 360096249892,\n",
    "                    \"United Kingdom Travel Desk\": None,\n",
    "                    \"Wedding Comments\": 360096249952,\n",
    "                    \"Wedding Sales\": 360096625011,\n",
    "                    \"Youth Martket, YES Program requests\": None,\n",
    "                    \"Wide World of Sports\": 360096250032\n",
    "   }"
   ]
  },
  {
   "cell_type": "code",
   "execution_count": 11,
   "metadata": {},
   "outputs": [],
   "source": [
    "import json\n",
    "with open(\"/Users/dearj019/Downloads/macro-ids.json\", \"r\") as f:\n",
    "    text = f.read()"
   ]
  },
  {
   "cell_type": "code",
   "execution_count": 12,
   "metadata": {},
   "outputs": [],
   "source": [
    "text_1 = text.replace(\"'\", \"\\\"\")"
   ]
  },
  {
   "cell_type": "code",
   "execution_count": 18,
   "metadata": {},
   "outputs": [
    {
     "data": {
      "text/plain": [
       "79353"
      ]
     },
     "execution_count": 18,
     "metadata": {},
     "output_type": "execute_result"
    }
   ],
   "source": [
    "text_1.find(\"ABC Corporate\")"
   ]
  },
  {
   "cell_type": "code",
   "execution_count": 21,
   "metadata": {},
   "outputs": [],
   "source": [
    "macro_mapping = {\n",
    "        'Guest Letters/Disney Reservation Center': 360007904013,\n",
    "        'Disneyland Resort': 360033043313,\n",
    "        'No Response': 360017393973,\n",
    "        'eCommerce': 360008121134,    # DRC Online (gs.drc)\n",
    "        'Ticketing Guest Services': 360010062394,\n",
    "        'PhotoPass/Disney Photo Imaging': None,\n",
    "        'Community Relations': 360008116134,\n",
    "        'Better Business Bureau': 360008113334, # TPRBBB\n",
    "        'Disney Cruise Line': 360007898613,\n",
    "        'Call Center Fulfillment': 360045845133,  # GSCC Fulfillment\n",
    "        'Disneyland Paris Pre-Trip Disability Access Services inquiries': 360007896913,   # DLP Pre-Trip DAS Inquiries\n",
    "        'DisneyLand Paris Guest Comm': 360008121214,\n",
    "        'Opt Out': 360036394093,\n",
    "        'Hong Kong DL Guest Comm': 360008120994,\n",
    "        'Casting Questions': None,\n",
    "        'Disney Parks & Resort Digital': 360032286334,\n",
    "        'Disneys Magical Express': None,\n",
    "        'Cast Admissions': 360040985673,\n",
    "        'Wedding Sales': 360007896773,\n",
    "        'Floral & Gifting': None,\n",
    "        'Wide World of Sports': 360008120894,\n",
    "        'Third Party Request': None,\n",
    "        'Groups Seeking Tickets': None,\n",
    "        'DisneyLand Paris Guest Comm - Escalated Writebacks': None\n",
    "    }"
   ]
  },
  {
   "cell_type": "code",
   "execution_count": 22,
   "metadata": {},
   "outputs": [],
   "source": [
    "macro_profile_mapping = {\n",
    "        \"ABC Corporate\": \"ABC.corporate.communications@disney.com\",\n",
    "        \"Cast Admissions\": \"cast.admissions@disneyparks.com\",\n",
    "        \"Casting Questions\": \"wdw.casting.correspondence@disney.com\",\n",
    "        \"Disney Channel\": \"kalem.tonn@disney.com\",\n",
    "        \"Disneyland Paris Pre-Trip Disability Access Services inquiries\": \"dlp.cro.special.need@disneylandparis.com\",\n",
    "        \"Disneyland Paris Reservation\": \"dlp.uk.admin@disneylandparis.com\",\n",
    "        \"DisneyLand Paris Guest Comm\": \"dlp.guest.communication@disneylandparis.com\",\n",
    "        \"DisneyLand Paris Guest Comm - Escalated Writebacks\": \"dlp.guest.communication@disneylandparis.com\",\n",
    "        \"Employee Relations\": \"WDPR.Employee.Relations.Intake@disney.com\",\n",
    "        \"Guest Letters/Disney Reservation Center\": \"wdw.drc.guest.letters@disney.com\",\n",
    "        \"Hong Kong DL Guest Comm\": \"guest@hongkongdisneyland.com\",\n",
    "        \"Legal Subpoenas\": \"WDW.Legal.Subpoena@disney.com\",\n",
    "        \"Media and Blogger Ticket Requests\": \"wdw.Public.Relations@disney.com\",\n",
    "        \"Retirees Writing About Benefits\": \"WDPR.Retirement.Perquisites@Disney.com\",\n",
    "        \"Shanghai Disney\": \"SHDR.GuestComm@Disney.Com\",\n",
    "        \"Shanghai Disney - Urgent\": \"SHDR.GuestComm@Disney.Com\",\n",
    "        \"Third Party Request\": \"wdw.requests@disney.com\",\n",
    "        \"United Kingdom Travel Desk\": \"disneytraveluk@disneyonline.com\",\n",
    "        \"Wedding Comments\": \"sharon.paone@disney.com\",\n",
    "        \"Wedding Sales\": \"Elizabeth.j.laney@disney.com\",\n",
    "        \"Youth Martket, YES Program requests\": \"meetings@disneyworld.com\",\n",
    "        \"Wide World of Sports\": \"disneysportstickets@disneysports.com\"\n",
    "    }"
   ]
  },
  {
   "cell_type": "code",
   "execution_count": 23,
   "metadata": {},
   "outputs": [],
   "source": [
    "a = macro_mapping.keys()"
   ]
  },
  {
   "cell_type": "code",
   "execution_count": 26,
   "metadata": {},
   "outputs": [],
   "source": [
    "a_set = set(a)"
   ]
  },
  {
   "cell_type": "code",
   "execution_count": 27,
   "metadata": {},
   "outputs": [],
   "source": [
    "b_set = set(macro_profile_mapping.keys())"
   ]
  },
  {
   "cell_type": "code",
   "execution_count": 28,
   "metadata": {},
   "outputs": [
    {
     "data": {
      "text/plain": [
       "{'Better Business Bureau',\n",
       " 'Call Center Fulfillment',\n",
       " 'Cast Admissions',\n",
       " 'Casting Questions',\n",
       " 'Community Relations',\n",
       " 'Disney Cruise Line',\n",
       " 'Disney Parks & Resort Digital',\n",
       " 'DisneyLand Paris Guest Comm',\n",
       " 'DisneyLand Paris Guest Comm - Escalated Writebacks',\n",
       " 'Disneyland Paris Pre-Trip Disability Access Services inquiries',\n",
       " 'Disneyland Resort',\n",
       " 'Disneys Magical Express',\n",
       " 'Floral & Gifting',\n",
       " 'Groups Seeking Tickets',\n",
       " 'Guest Letters/Disney Reservation Center',\n",
       " 'Hong Kong DL Guest Comm',\n",
       " 'No Response',\n",
       " 'Opt Out',\n",
       " 'PhotoPass/Disney Photo Imaging',\n",
       " 'Third Party Request',\n",
       " 'Ticketing Guest Services',\n",
       " 'Wedding Sales',\n",
       " 'Wide World of Sports',\n",
       " 'eCommerce'}"
      ]
     },
     "execution_count": 28,
     "metadata": {},
     "output_type": "execute_result"
    }
   ],
   "source": [
    "a_set"
   ]
  },
  {
   "cell_type": "code",
   "execution_count": 30,
   "metadata": {},
   "outputs": [
    {
     "name": "stdout",
     "output_type": "stream",
     "text": [
      "Disney Cruise Line\n",
      "Disney Parks & Resort Digital\n",
      "Community Relations\n",
      "PhotoPass/Disney Photo Imaging\n",
      "No Response\n",
      "Ticketing Guest Services\n",
      "Opt Out\n",
      "Call Center Fulfillment\n",
      "Disneyland Resort\n",
      "eCommerce\n",
      "Better Business Bureau\n",
      "Groups Seeking Tickets\n",
      "Disneys Magical Express\n",
      "Floral & Gifting\n"
     ]
    }
   ],
   "source": [
    "for a in a_set:\n",
    "    if a not in b_set:\n",
    "        print(a)"
   ]
  },
  {
   "cell_type": "code",
   "execution_count": 31,
   "metadata": {},
   "outputs": [
    {
     "name": "stdout",
     "output_type": "stream",
     "text": [
      "Disneyland Paris Reservation\n",
      "Shanghai Disney - Urgent\n",
      "Employee Relations\n",
      "ABC Corporate\n",
      "Youth Martket, YES Program requests\n",
      "Media and Blogger Ticket Requests\n",
      "Retirees Writing About Benefits\n",
      "Disney Channel\n",
      "Shanghai Disney\n",
      "Wedding Comments\n",
      "Legal Subpoenas\n",
      "United Kingdom Travel Desk\n"
     ]
    }
   ],
   "source": [
    "for b in b_set:\n",
    "    if b not in a_set:\n",
    "        print(b)"
   ]
  },
  {
   "cell_type": "code",
   "execution_count": null,
   "metadata": {},
   "outputs": [],
   "source": []
  }
 ],
 "metadata": {
  "kernelspec": {
   "display_name": "Python 3",
   "language": "python",
   "name": "python3"
  },
  "language_info": {
   "codemirror_mode": {
    "name": "ipython",
    "version": 3
   },
   "file_extension": ".py",
   "mimetype": "text/x-python",
   "name": "python",
   "nbconvert_exporter": "python",
   "pygments_lexer": "ipython3",
   "version": "3.7.2"
  }
 },
 "nbformat": 4,
 "nbformat_minor": 2
}
